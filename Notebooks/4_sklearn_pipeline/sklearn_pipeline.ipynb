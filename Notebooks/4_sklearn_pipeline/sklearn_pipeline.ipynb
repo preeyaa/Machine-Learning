{
 "cells": [
  {
   "cell_type": "markdown",
   "id": "c5fffd8c-9192-46d7-ad8c-520967341e42",
   "metadata": {},
   "source": [
    "## A Sklearn pipeline\n",
    "A sklearn pipeline for a small datset that transforms numerical and categorical columns and standardize them"
   ]
  },
  {
   "cell_type": "code",
   "execution_count": null,
   "id": "102f0acd-c098-45d2-b978-a6fb7a933b0c",
   "metadata": {},
   "outputs": [],
   "source": [
    "# Coding with sklearn pipeline\n",
    "import pandas as pd\n",
    "import numpy as np\n",
    "from sklearn.impute import SimpleImputer\n",
    "from sklearn.preprocessing import StandardScaler,OneHotEncoder\n",
    "from sklearn.model_selection import train_test_split\n",
    "from sklearn.compose import ColumnTransformer\n",
    "from sklearn.tree import DecisionTreeClassifier\n",
    "\n",
    "from sklearn.pipeline import Pipeline,make_pipeline\n",
    "d2 = {'Genre':['Rock', 'Metal', 'Bluegrass', 'Rock', np.nan, 'Rock', 'Rock', np.nan, 'Bluegrass', 'Rock'],\n",
    "      'Social_media_followers':[1000000, np.nan, 2000000, 1310000, 1700000, np.nan, 4100000, 1600000, 2200000, 1000000],\n",
    "      'likes':[6000000, np.nan, 5000000, 1610000, 1800000, np.nan, 4800000, 1650000, 2680000, 5000000],\n",
    "      'Sold_out':[1,0,0,1,0,0,0,1,0,1]}\n",
    "df=pd.DataFrame(data=d2)\n",
    "df.head()"
   ]
  },
  {
   "cell_type": "code",
   "execution_count": 2,
   "id": "105123fe-0248-4ef6-a080-1fa6ad44f94f",
   "metadata": {},
   "outputs": [
    {
     "name": "stdout",
     "output_type": "stream",
     "text": [
      "Score:0.6666666666666666\n"
     ]
    }
   ],
   "source": [
    "#num_cols=['Social_media_followers']\n",
    "#cat_cols=['Genre']\n",
    "num_cols = df.select_dtypes(include=['float64']).columns.tolist()\n",
    "cat_cols = df.select_dtypes(include=['object', 'category']).columns.tolist()\n",
    "\n",
    "X = df.iloc[:,0:3]\n",
    "y = df.iloc[:,3]\n",
    "\n",
    "num_pipe = Pipeline(steps=[\n",
    "                   ('impute', SimpleImputer(strategy='mean')),\n",
    "                   ('scale', StandardScaler() )\n",
    "                   ])\n",
    "cat_pipe = Pipeline(steps=[\n",
    "                   ('impute', SimpleImputer(strategy='most_frequent')),\n",
    "                  ('ohe', OneHotEncoder(handle_unknown='ignore', sparse_output=False))\n",
    "                   ])\n",
    "\n",
    "col_trans = ColumnTransformer(transformers=[\n",
    "                            ('num', num_pipe, num_cols),\n",
    "                            ('cat', cat_pipe, cat_cols)],\n",
    "                            remainder='drop',\n",
    "                            n_jobs=-1\n",
    "                            )\n",
    "\n",
    "dt = DecisionTreeClassifier()\n",
    "pipe = make_pipeline(col_trans, dt)\n",
    "\n",
    "X_train, X_test, y_train, y_test=train_test_split(X, y, test_size=0.3)\n",
    "pipe.fit(X_train, y_train)\n",
    "print(f'Score:{pipe.score(X_test, y_test)}')"
   ]
  },
  {
   "cell_type": "code",
   "execution_count": 3,
   "id": "8e16f6b0-187a-4c09-8145-2352968de65e",
   "metadata": {},
   "outputs": [],
   "source": [
    "import joblib\n",
    "joblib.dump(pipe,'pipe.joblib')\n",
    "loaded_pipe = joblib.load('pipe.joblib')"
   ]
  },
  {
   "cell_type": "code",
   "execution_count": null,
   "id": "e49e1d85-0ab8-4c2a-8615-fd9b134ea093",
   "metadata": {},
   "outputs": [],
   "source": []
  }
 ],
 "metadata": {
  "kernelspec": {
   "display_name": "Python 3 (ipykernel)",
   "language": "python",
   "name": "python3"
  },
  "language_info": {
   "codemirror_mode": {
    "name": "ipython",
    "version": 3
   },
   "file_extension": ".py",
   "mimetype": "text/x-python",
   "name": "python",
   "nbconvert_exporter": "python",
   "pygments_lexer": "ipython3",
   "version": "3.12.5"
  }
 },
 "nbformat": 4,
 "nbformat_minor": 5
}
